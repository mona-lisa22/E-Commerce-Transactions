{
 "cells": [
  {
   "cell_type": "code",
   "execution_count": 72,
   "id": "bb4fea93-e94e-4e37-98df-c3ad32b14fef",
   "metadata": {},
   "outputs": [],
   "source": [
    "import pandas as pd\n",
    "from sklearn.metrics.pairwise import cosine_similarity\n",
    "from sklearn.feature_extraction.text import CountVectorizer\n",
    "\n",
    "customers = pd.read_csv(r\"C:\\Users\\monalisa\\IdeaProjects\\Zeotap\\Customers.csv\")\n",
    "products = pd.read_csv(r\"C:\\Users\\monalisa\\IdeaProjects\\Zeotap\\Transactions.csv\")\n",
    "transactions = pd.read_csv(r\"C:\\Users\\monalisa\\IdeaProjects\\Zeotap\\Products.csv\")\n",
    "\n"
   ]
  },
  {
   "cell_type": "code",
   "execution_count": 80,
   "id": "930d3e89-ffc0-4eb8-a6af-fb8e54313f3b",
   "metadata": {},
   "outputs": [],
   "source": [
    "merged_data = transactions.merge(products, on=\"ProductID\", how=\"left\")\n",
    "merged_data = merged_data.merge(customers, on=\"CustomerID\", how=\"left\")\n"
   ]
  },
  {
   "cell_type": "code",
   "execution_count": 82,
   "id": "031644cb-29b6-4525-aef4-55266461bb0a",
   "metadata": {},
   "outputs": [],
   "source": [
    "merged_data.dropna(subset=[\"CustomerID\", \"ProductID\", \"ProductName\", \"Region\", \"TotalValue\"], inplace=True)\n"
   ]
  },
  {
   "cell_type": "code",
   "execution_count": 85,
   "id": "b629ebe0-3b36-4e99-9d53-42ea6bdb72ef",
   "metadata": {},
   "outputs": [],
   "source": [
    "user_product_matrix = merged_data.pivot_table(index=\"CustomerID\", columns=\"ProductName\", values=\"Quantity\", aggfunc=\"sum\",\n",
    "    fill_value=0\n",
    ")\n"
   ]
  },
  {
   "cell_type": "code",
   "execution_count": 87,
   "id": "437563d4-2f13-48d3-9ab5-a9915539182c",
   "metadata": {},
   "outputs": [],
   "source": [
    "#reset index for manipulation\n",
    "user_product_matrix.reset_index(inplace=True)\n",
    "\n",
    "# Combine customer profile data with transaction data for similarity\n",
    "customer_profiles = customers.set_index(\"CustomerID\")\n",
    "user_product_matrix = user_product_matrix.set_index(\"CustomerID\")\n",
    "combined_matrix = user_product_matrix.join(customer_profiles, how=\"left\")\n",
    "\n",
    "# Fill any remaining missing values with 0\n",
    "combined_matrix.fillna(0, inplace=True)\n"
   ]
  },
  {
   "cell_type": "code",
   "execution_count": 97,
   "id": "2a77a101-5e82-4f97-b478-30d28b2590ff",
   "metadata": {},
   "outputs": [
    {
     "name": "stdout",
     "output_type": "stream",
     "text": [
      "Index(['ProductID', 'ProductName', 'Category', 'Price_x', 'TransactionID',\n",
      "       'CustomerID', 'TransactionDate', 'Quantity', 'TotalValue', 'Price_y',\n",
      "       'CustomerName', 'Region', 'SignupDate'],\n",
      "      dtype='object')\n"
     ]
    }
   ],
   "source": [
    "print(merged_data.columns)"
   ]
  },
  {
   "cell_type": "code",
   "execution_count": 101,
   "id": "710b8224-c025-4ed6-8aff-e9e091506e97",
   "metadata": {},
   "outputs": [
    {
     "name": "stdout",
     "output_type": "stream",
     "text": [
      "Error: 'Region' column not found. Please check the merged data.\n"
     ]
    }
   ],
   "source": [
    "if \"Region\" not in combined_matrix.columns:\n",
    "    print(\"Error: 'Region' column not found. Please check the merged data.\")\n",
    "else:\n",
    "    # Convert 'Region' to dummy variables\n",
    "    combined_matrix = pd.get_dummies(combined_matrix, columns=[\"Region\"], drop_first=True)\n",
    "\n",
    "# Ensure only numeric columns are used for similarity calculation\n",
    "numeric_matrix = combined_matrix.select_dtypes(include=[int, float])\n"
   ]
  },
  {
   "cell_type": "code",
   "execution_count": 103,
   "id": "53764acc-f185-49dc-bf81-bd7a5fe0a6d3",
   "metadata": {},
   "outputs": [],
   "source": [
    "numeric_matrix.fillna(0, inplace=True)\n"
   ]
  },
  {
   "cell_type": "code",
   "execution_count": 108,
   "id": "95acc621-9996-4f6c-aaa3-bc722438fb0a",
   "metadata": {},
   "outputs": [],
   "source": [
    "similarity_matrix = cosine_similarity(numeric_matrix)\n",
    "similarity_df = pd.DataFrame(similarity_matrix, index=combined_matrix.index, columns=combined_matrix.index)\n",
    "lookalike_results = {}\n",
    "\n",
    "for customer in combined_matrix.index[:20]:\n",
    "    similar_customers = similarity_df[customer].sort_values(ascending=False).iloc[1:4]\n",
    "    lookalike_results[customer] = list(zip(similar_customers.index, similar_customers.values))\n"
   ]
  },
  {
   "cell_type": "code",
   "execution_count": 118,
   "id": "02c6dba2-12fd-49ee-85ec-b3c727ee2904",
   "metadata": {},
   "outputs": [
    {
     "name": "stdout",
     "output_type": "stream",
     "text": [
      "\n",
      "Lookalike Model Completed. Results saved in 'Monalisa_V_Lookalike.csv'.\n"
     ]
    }
   ],
   "source": [
    "lookalike_data = []\n",
    "for cust_id, similar in lookalike_results.items():\n",
    "    for sim_cust_id, score in similar:\n",
    "        lookalike_data.append({\n",
    "            \"CustomerID\": cust_id,\n",
    "            \"SimilarCustomerID\": sim_cust_id,\n",
    "            \"SimilarityScore\": score\n",
    "        })\n",
    "\n",
    "lookalike_df = pd.DataFrame(lookalike_data)\n",
    "lookalike_df.to_csv(\"Monalisa_V_Lookalike.csv\", index=False)\n",
    "\n",
    "print(\"\\nLookalike Model Completed. Results saved in 'Monalisa_V_Lookalike.csv'.\")"
   ]
  }
 ],
 "metadata": {
  "kernelspec": {
   "display_name": "Python [conda env:base] *",
   "language": "python",
   "name": "conda-base-py"
  },
  "language_info": {
   "codemirror_mode": {
    "name": "ipython",
    "version": 3
   },
   "file_extension": ".py",
   "mimetype": "text/x-python",
   "name": "python",
   "nbconvert_exporter": "python",
   "pygments_lexer": "ipython3",
   "version": "3.12.7"
  }
 },
 "nbformat": 4,
 "nbformat_minor": 5
}
